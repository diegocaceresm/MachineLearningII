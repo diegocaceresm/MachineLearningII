{
 "cells": [
  {
   "cell_type": "markdown",
   "metadata": {},
   "source": [
    "# Assignment 1\n",
    "\n",
    "## 1. Covid-19 Disasters\n",
    "\n",
    "The SIR model is a 3-compartment model. Extend this model to 4 compartments, where the 4th compartment is for deaths (D). Mortality is modeled by new transitions from→D defined by the mortality rate μ. Susceptible and Recovered do not die.\n",
    "\n",
    "* (a) Derive the corresponding system of equations for S, I, R, and D. E.g., dD/dt= μI but this is not the only difference to SIR. In addition, the basic reproduction number may now depend on μ as well, how?\n",
    "\n",
    "* (b) Assume that the basic reproduction number R0 for B.1.1.7 is not exactly known but only the range R0 ∈ [3.0,4.0]. Assume that the mortality rate μ is also not exactly known but only the range μ ∈[0.4%,4%]. Study how these parameter uncertainties affect the prediction of D at t= 365d. What about the cumulative number of deaths after a year?\n",
    "\n",
    "* (c) Study numerically the effects of a hard versus soft lockdown ( by two for you reasonable values of β ), in terms of D (365d). What about the cumulative number of deaths after a year? Assume μ= 1% and a γ compatible with R0= 4.\n",
    "\n",
    "* (b,c) Can you find a way to derive and plot the effective reproduction number, R, as a function of time, given otherwise fixed parameters?\n",
    "\n",
    "* (a-d) Free choice for the initial conditions (t= 0) and initial prevalence, I (t= 0). Assume R (0) = D (0) = 0. If you choose N= 1, the compartments become fractions of the population number and you can remove N from the entire system of equations. Start with more than 1% of infected individuals (but not exactly 1%). Every plot must have a title and must display what parameters are fixed, and a legend. Every plot must be followed by a small take-home message.\n",
    "\n",
    "## 2. Principal Component Disasters\n",
    "\n",
    "Create labeled surrogate data sets. Perform a PCA/Class prediction with ovr logistic regression analysis as developed in the lecture.\n",
    "\n",
    "* (a) 4 blobs: Create clearly separable 4-blobs in 3d but also a ’disaster' realization with strong overlaps. Study, show and compare elbow plots and prediction boundaries.\n",
    "\n",
    "* (b) 2 touching parabola spreads as shown in the lecture, but in 3d (not 2d). Study and show elbow plot and prediction boundaries.\n",
    "\n",
    "* (a,b) Every plot must be followed by a small take-home message."
   ]
  },
  {
   "cell_type": "code",
   "execution_count": null,
   "metadata": {},
   "outputs": [],
   "source": []
  },
  {
   "cell_type": "markdown",
   "metadata": {},
   "source": [
    "## Team\n",
    "\n",
    "| Name | Assigned No | Student ID |\n",
    "| ----------------- | ---------- | ----------- |\n",
    "|Diego Caceres|5 |8308522 |\n",
    "|Tom Michel Schult|27 |8340242 |\n",
    "|Nico Bambach |2 |8315304 |\n",
    "|Krzysztof Trebicki |33 |8443831 |\n"
   ]
  },
  {
   "cell_type": "code",
   "execution_count": null,
   "metadata": {},
   "outputs": [],
   "source": []
  }
 ],
 "metadata": {
  "kernelspec": {
   "display_name": "Python 3",
   "language": "python",
   "name": "python3"
  },
  "language_info": {
   "codemirror_mode": {
    "name": "ipython",
    "version": 3
   },
   "file_extension": ".py",
   "mimetype": "text/x-python",
   "name": "python",
   "nbconvert_exporter": "python",
   "pygments_lexer": "ipython3",
   "version": "3.8.3"
  }
 },
 "nbformat": 4,
 "nbformat_minor": 4
}

